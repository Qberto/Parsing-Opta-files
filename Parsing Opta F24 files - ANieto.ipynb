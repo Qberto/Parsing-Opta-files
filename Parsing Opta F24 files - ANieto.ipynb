{
 "cells": [
  {
   "cell_type": "code",
   "execution_count": 43,
   "metadata": {
    "collapsed": true
   },
   "outputs": [],
   "source": [
    "import csv\n",
    "import xml.etree.ElementTree as et\n",
    "import numpy as np\n",
    "from datetime import datetime as dt\n",
    "import requests\n",
    "import pandas as pd"
   ]
  },
  {
   "cell_type": "code",
   "execution_count": 70,
   "metadata": {
    "collapsed": true
   },
   "outputs": [],
   "source": [
    "parsedXML = et.parse(\"f24-1-2014-791117-eventdetails-example-with-penalty-shootout.xml\")\n",
    "dfcols = ['id', \n",
    "          'event_id', \n",
    "          'type_id', \n",
    "          'period_id', \n",
    "          'min', \n",
    "          'sec', \n",
    "          'team_id', \n",
    "          'outcome', \n",
    "          'x', \n",
    "          'y', \n",
    "          'timestamp',\n",
    "          'date',\n",
    "          'time',\n",
    "          'last_modified']\n",
    "df_xml = pd.DataFrame(columns=dfcols)"
   ]
  },
  {
   "cell_type": "code",
   "execution_count": 73,
   "metadata": {},
   "outputs": [],
   "source": [
    "for child in parsedXML.getroot():\n",
    "    for grchild in child:\n",
    "        first_id = grchild.attrib.get('id')\n",
    "        event_id = grchild.attrib.get('event_id')\n",
    "        type_id = grchild.attrib.get('type_id')\n",
    "        period_id = grchild.attrib.get('period_id')\n",
    "        minute = grchild.attrib.get('min')\n",
    "        second = grchild.attrib.get('sec')\n",
    "        team_id = grchild.attrib.get('team_id')\n",
    "        outcome = grchild.attrib.get('outcome')\n",
    "        x = grchild.attrib.get('x')\n",
    "        y = grchild.attrib.get('y')\n",
    "        timestamp = grchild.attrib.get('timestamp')\n",
    "        date = timestamp.split(\"T\")[0]\n",
    "        time = str(timestamp.split(\"T\")[1]).split(\".\")[0]\n",
    "        last_modified = grchild.attrib.get('last_modified')\n",
    "        \n",
    "        df_xml = df_xml.append(\n",
    "            pd.Series([first_id,\n",
    "                       event_id,\n",
    "                       type_id,\n",
    "                       period_id,\n",
    "                       minute,\n",
    "                       second,\n",
    "                       team_id,\n",
    "                       outcome,\n",
    "                       x,\n",
    "                       y,\n",
    "                       timestamp,\n",
    "                       date,\n",
    "                       time,\n",
    "                       last_modified], index=dfcols),\n",
    "            ignore_index=True)"
   ]
  },
  {
   "cell_type": "code",
   "execution_count": 74,
   "metadata": {},
   "outputs": [
    {
     "data": {
      "text/html": [
       "<div>\n",
       "<style>\n",
       "    .dataframe thead tr:only-child th {\n",
       "        text-align: right;\n",
       "    }\n",
       "\n",
       "    .dataframe thead th {\n",
       "        text-align: left;\n",
       "    }\n",
       "\n",
       "    .dataframe tbody tr th {\n",
       "        vertical-align: top;\n",
       "    }\n",
       "</style>\n",
       "<table border=\"1\" class=\"dataframe\">\n",
       "  <thead>\n",
       "    <tr style=\"text-align: right;\">\n",
       "      <th></th>\n",
       "      <th>id</th>\n",
       "      <th>event_id</th>\n",
       "      <th>type_id</th>\n",
       "      <th>period_id</th>\n",
       "      <th>min</th>\n",
       "      <th>sec</th>\n",
       "      <th>team_id</th>\n",
       "      <th>outcome</th>\n",
       "      <th>x</th>\n",
       "      <th>y</th>\n",
       "      <th>timestamp</th>\n",
       "      <th>date</th>\n",
       "      <th>time</th>\n",
       "      <th>last_modified</th>\n",
       "    </tr>\n",
       "  </thead>\n",
       "  <tbody>\n",
       "    <tr>\n",
       "      <th>0</th>\n",
       "      <td>284008819</td>\n",
       "      <td>1</td>\n",
       "      <td>34</td>\n",
       "      <td>16</td>\n",
       "      <td>0</td>\n",
       "      <td>0</td>\n",
       "      <td>11</td>\n",
       "      <td>1</td>\n",
       "      <td>0.0</td>\n",
       "      <td>0.0</td>\n",
       "      <td>2015-01-13T18:47:46.560</td>\n",
       "      <td>2015-01-13</td>\n",
       "      <td>18:47:46</td>\n",
       "      <td>2015-01-13T19:49:16</td>\n",
       "    </tr>\n",
       "    <tr>\n",
       "      <th>1</th>\n",
       "      <td>1339723066</td>\n",
       "      <td>1</td>\n",
       "      <td>34</td>\n",
       "      <td>16</td>\n",
       "      <td>0</td>\n",
       "      <td>0</td>\n",
       "      <td>21</td>\n",
       "      <td>1</td>\n",
       "      <td>0.0</td>\n",
       "      <td>0.0</td>\n",
       "      <td>2015-01-13T18:51:04.720</td>\n",
       "      <td>2015-01-13</td>\n",
       "      <td>18:51:04</td>\n",
       "      <td>2015-01-13T19:44:07</td>\n",
       "    </tr>\n",
       "    <tr>\n",
       "      <th>2</th>\n",
       "      <td>958764708</td>\n",
       "      <td>2</td>\n",
       "      <td>32</td>\n",
       "      <td>1</td>\n",
       "      <td>0</td>\n",
       "      <td>0</td>\n",
       "      <td>11</td>\n",
       "      <td>1</td>\n",
       "      <td>0.0</td>\n",
       "      <td>0.0</td>\n",
       "      <td>2015-01-13T19:45:29.552</td>\n",
       "      <td>2015-01-13</td>\n",
       "      <td>19:45:29</td>\n",
       "      <td>2015-01-13T19:45:29</td>\n",
       "    </tr>\n",
       "    <tr>\n",
       "      <th>3</th>\n",
       "      <td>839506542</td>\n",
       "      <td>2</td>\n",
       "      <td>32</td>\n",
       "      <td>1</td>\n",
       "      <td>0</td>\n",
       "      <td>0</td>\n",
       "      <td>21</td>\n",
       "      <td>1</td>\n",
       "      <td>0.0</td>\n",
       "      <td>0.0</td>\n",
       "      <td>2015-01-13T19:45:29.552</td>\n",
       "      <td>2015-01-13</td>\n",
       "      <td>19:45:29</td>\n",
       "      <td>2015-01-13T19:45:29</td>\n",
       "    </tr>\n",
       "    <tr>\n",
       "      <th>4</th>\n",
       "      <td>539329697</td>\n",
       "      <td>3</td>\n",
       "      <td>1</td>\n",
       "      <td>1</td>\n",
       "      <td>0</td>\n",
       "      <td>1</td>\n",
       "      <td>11</td>\n",
       "      <td>1</td>\n",
       "      <td>50.0</td>\n",
       "      <td>49.9</td>\n",
       "      <td>2015-01-13T19:45:30.552</td>\n",
       "      <td>2015-01-13</td>\n",
       "      <td>19:45:30</td>\n",
       "      <td>2015-01-14T08:57:12</td>\n",
       "    </tr>\n",
       "  </tbody>\n",
       "</table>\n",
       "</div>"
      ],
      "text/plain": [
       "           id event_id type_id period_id min sec team_id outcome     x     y  \\\n",
       "0   284008819        1      34        16   0   0      11       1   0.0   0.0   \n",
       "1  1339723066        1      34        16   0   0      21       1   0.0   0.0   \n",
       "2   958764708        2      32         1   0   0      11       1   0.0   0.0   \n",
       "3   839506542        2      32         1   0   0      21       1   0.0   0.0   \n",
       "4   539329697        3       1         1   0   1      11       1  50.0  49.9   \n",
       "\n",
       "                 timestamp        date      time        last_modified  \n",
       "0  2015-01-13T18:47:46.560  2015-01-13  18:47:46  2015-01-13T19:49:16  \n",
       "1  2015-01-13T18:51:04.720  2015-01-13  18:51:04  2015-01-13T19:44:07  \n",
       "2  2015-01-13T19:45:29.552  2015-01-13  19:45:29  2015-01-13T19:45:29  \n",
       "3  2015-01-13T19:45:29.552  2015-01-13  19:45:29  2015-01-13T19:45:29  \n",
       "4  2015-01-13T19:45:30.552  2015-01-13  19:45:30  2015-01-14T08:57:12  "
      ]
     },
     "execution_count": 74,
     "metadata": {},
     "output_type": "execute_result"
    }
   ],
   "source": [
    "df_xml.head()"
   ]
  },
  {
   "cell_type": "code",
   "execution_count": 75,
   "metadata": {},
   "outputs": [
    {
     "data": {
      "text/plain": [
       "{'away_team_id': '11',\n",
       " 'away_team_name': 'Everton',\n",
       " 'competition_id': '1',\n",
       " 'competition_name': 'English FA Cup',\n",
       " 'game_date': '2015-01-13T19:45:00',\n",
       " 'home_team_id': '21',\n",
       " 'home_team_name': 'West Ham United',\n",
       " 'id': '791117',\n",
       " 'matchday': '3',\n",
       " 'period_1_start': '2015-01-13T19:45:29',\n",
       " 'period_2_start': '2015-01-13T20:47:27',\n",
       " 'period_3_start': '2015-01-13T21:41:11',\n",
       " 'period_4_start': '2015-01-13T21:59:45',\n",
       " 'period_5_start': '2015-01-13T22:22:06',\n",
       " 'season_id': '2014',\n",
       " 'season_name': 'Season 2014/2015'}"
      ]
     },
     "execution_count": 75,
     "metadata": {},
     "output_type": "execute_result"
    }
   ],
   "source": [
    "games = parsedXML.getroot()\n",
    "match_details = games[0].attrib\n",
    "match_details"
   ]
  },
  {
   "cell_type": "code",
   "execution_count": 76,
   "metadata": {},
   "outputs": [
    {
     "data": {
      "text/plain": [
       "'WestHamUnited_v_Everton__2015-01-13T194500'"
      ]
     },
     "execution_count": 76,
     "metadata": {},
     "output_type": "execute_result"
    }
   ],
   "source": [
    "game_title = '{0}_v_{1}__{2}'.format(match_details['home_team_name'].replace(\" \", \"\"), \n",
    "                                     match_details['away_team_name'].replace(\" \", \"\"), \n",
    "                                     match_details['game_date'].replace(\":\",\"\")); game_title"
   ]
  },
  {
   "cell_type": "code",
   "execution_count": 77,
   "metadata": {},
   "outputs": [],
   "source": [
    "df_xml.to_csv(game_title+\".csv\")"
   ]
  }
 ],
 "metadata": {
  "anaconda-cloud": {},
  "kernelspec": {
   "display_name": "Python 3",
   "language": "python",
   "name": "python3"
  },
  "language_info": {
   "codemirror_mode": {
    "name": "ipython",
    "version": 3
   },
   "file_extension": ".py",
   "mimetype": "text/x-python",
   "name": "python",
   "nbconvert_exporter": "python",
   "pygments_lexer": "ipython3",
   "version": "3.6.1"
  }
 },
 "nbformat": 4,
 "nbformat_minor": 1
}
